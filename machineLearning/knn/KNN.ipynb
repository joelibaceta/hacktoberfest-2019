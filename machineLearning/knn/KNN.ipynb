{
 "cells": [
  {
   "cell_type": "markdown",
   "metadata": {},
   "source": [
    "<font color='blue' size=30><b><h1>KNN</h1></b></font>"
   ]
  },
  {
   "cell_type": "markdown",
   "metadata": {},
   "source": [
    "<p>\n",
    "    É um método do K vizinhos, sendo um método de classificação supervisionada, que estimula a probabilidade de um elemento <font color='red'><b>X</b></font> pertence a uma Classe <b>\"C\"</b> a partir de uma informação.\n",
    "    O reconhecimento de padrões, este algorítmo é usado como método de classificação de objetos.\n",
    "    Trabalha com qualquer número de Classes.\n",
    "</p>"
   ]
  },
  {
   "cell_type": "markdown",
   "metadata": {},
   "source": [
    "<img src='knn.jpg'>KNN</img>"
   ]
  },
  {
   "cell_type": "code",
   "execution_count": 6,
   "metadata": {},
   "outputs": [],
   "source": [
    "import pandas as pd\n",
    "import numpy as np\n",
    "import matplotlib.pyplot as plt\n",
    "import seaborn as sns"
   ]
  },
  {
   "cell_type": "code",
   "execution_count": 7,
   "metadata": {},
   "outputs": [
    {
     "data": {
      "text/html": [
       "<div>\n",
       "<style scoped>\n",
       "    .dataframe tbody tr th:only-of-type {\n",
       "        vertical-align: middle;\n",
       "    }\n",
       "\n",
       "    .dataframe tbody tr th {\n",
       "        vertical-align: top;\n",
       "    }\n",
       "\n",
       "    .dataframe thead th {\n",
       "        text-align: right;\n",
       "    }\n",
       "</style>\n",
       "<table border=\"1\" class=\"dataframe\">\n",
       "  <thead>\n",
       "    <tr style=\"text-align: right;\">\n",
       "      <th></th>\n",
       "      <th>compactness</th>\n",
       "      <th>circularity</th>\n",
       "      <th>distance_circularity</th>\n",
       "      <th>radius_ratio</th>\n",
       "      <th>pr_axis_aspect_ratio</th>\n",
       "      <th>max_length_aspect_ratio</th>\n",
       "      <th>scatter_ratio</th>\n",
       "      <th>elongatedness</th>\n",
       "      <th>pr_axis_rectangularity</th>\n",
       "      <th>max_length_rectangularity</th>\n",
       "      <th>scaled_variance_major_axis</th>\n",
       "      <th>scaled_variance_minor_axis</th>\n",
       "      <th>scaled_radius_gyration</th>\n",
       "      <th>skewness_major_axis</th>\n",
       "      <th>skewness_minor_axis</th>\n",
       "      <th>kurtosis_minor_axis</th>\n",
       "      <th>kurtosis_major_axis</th>\n",
       "      <th>hollows_ratio</th>\n",
       "      <th>vehicle_class</th>\n",
       "    </tr>\n",
       "  </thead>\n",
       "  <tbody>\n",
       "    <tr>\n",
       "      <th>0</th>\n",
       "      <td>95.0</td>\n",
       "      <td>48.0</td>\n",
       "      <td>83.0</td>\n",
       "      <td>178.0</td>\n",
       "      <td>72.0</td>\n",
       "      <td>10.0</td>\n",
       "      <td>162.0</td>\n",
       "      <td>42.0</td>\n",
       "      <td>20.0</td>\n",
       "      <td>159.0</td>\n",
       "      <td>176.0</td>\n",
       "      <td>379.0</td>\n",
       "      <td>184.0</td>\n",
       "      <td>70.0</td>\n",
       "      <td>6.0</td>\n",
       "      <td>16.0</td>\n",
       "      <td>187.0</td>\n",
       "      <td>197.0</td>\n",
       "      <td>van</td>\n",
       "    </tr>\n",
       "    <tr>\n",
       "      <th>1</th>\n",
       "      <td>91.0</td>\n",
       "      <td>41.0</td>\n",
       "      <td>84.0</td>\n",
       "      <td>141.0</td>\n",
       "      <td>57.0</td>\n",
       "      <td>9.0</td>\n",
       "      <td>149.0</td>\n",
       "      <td>45.0</td>\n",
       "      <td>19.0</td>\n",
       "      <td>143.0</td>\n",
       "      <td>170.0</td>\n",
       "      <td>330.0</td>\n",
       "      <td>158.0</td>\n",
       "      <td>72.0</td>\n",
       "      <td>9.0</td>\n",
       "      <td>14.0</td>\n",
       "      <td>189.0</td>\n",
       "      <td>199.0</td>\n",
       "      <td>van</td>\n",
       "    </tr>\n",
       "    <tr>\n",
       "      <th>2</th>\n",
       "      <td>104.0</td>\n",
       "      <td>50.0</td>\n",
       "      <td>106.0</td>\n",
       "      <td>209.0</td>\n",
       "      <td>66.0</td>\n",
       "      <td>10.0</td>\n",
       "      <td>207.0</td>\n",
       "      <td>32.0</td>\n",
       "      <td>23.0</td>\n",
       "      <td>158.0</td>\n",
       "      <td>223.0</td>\n",
       "      <td>635.0</td>\n",
       "      <td>220.0</td>\n",
       "      <td>73.0</td>\n",
       "      <td>14.0</td>\n",
       "      <td>9.0</td>\n",
       "      <td>188.0</td>\n",
       "      <td>196.0</td>\n",
       "      <td>saab</td>\n",
       "    </tr>\n",
       "    <tr>\n",
       "      <th>3</th>\n",
       "      <td>93.0</td>\n",
       "      <td>41.0</td>\n",
       "      <td>82.0</td>\n",
       "      <td>159.0</td>\n",
       "      <td>63.0</td>\n",
       "      <td>9.0</td>\n",
       "      <td>144.0</td>\n",
       "      <td>46.0</td>\n",
       "      <td>19.0</td>\n",
       "      <td>143.0</td>\n",
       "      <td>160.0</td>\n",
       "      <td>309.0</td>\n",
       "      <td>127.0</td>\n",
       "      <td>63.0</td>\n",
       "      <td>6.0</td>\n",
       "      <td>10.0</td>\n",
       "      <td>199.0</td>\n",
       "      <td>207.0</td>\n",
       "      <td>van</td>\n",
       "    </tr>\n",
       "    <tr>\n",
       "      <th>4</th>\n",
       "      <td>85.0</td>\n",
       "      <td>44.0</td>\n",
       "      <td>70.0</td>\n",
       "      <td>205.0</td>\n",
       "      <td>103.0</td>\n",
       "      <td>52.0</td>\n",
       "      <td>149.0</td>\n",
       "      <td>45.0</td>\n",
       "      <td>19.0</td>\n",
       "      <td>144.0</td>\n",
       "      <td>241.0</td>\n",
       "      <td>325.0</td>\n",
       "      <td>188.0</td>\n",
       "      <td>127.0</td>\n",
       "      <td>9.0</td>\n",
       "      <td>11.0</td>\n",
       "      <td>180.0</td>\n",
       "      <td>183.0</td>\n",
       "      <td>bus</td>\n",
       "    </tr>\n",
       "  </tbody>\n",
       "</table>\n",
       "</div>"
      ],
      "text/plain": [
       "   compactness  circularity  distance_circularity  radius_ratio  \\\n",
       "0         95.0         48.0                  83.0         178.0   \n",
       "1         91.0         41.0                  84.0         141.0   \n",
       "2        104.0         50.0                 106.0         209.0   \n",
       "3         93.0         41.0                  82.0         159.0   \n",
       "4         85.0         44.0                  70.0         205.0   \n",
       "\n",
       "   pr_axis_aspect_ratio  max_length_aspect_ratio  scatter_ratio  \\\n",
       "0                  72.0                     10.0          162.0   \n",
       "1                  57.0                      9.0          149.0   \n",
       "2                  66.0                     10.0          207.0   \n",
       "3                  63.0                      9.0          144.0   \n",
       "4                 103.0                     52.0          149.0   \n",
       "\n",
       "   elongatedness  pr_axis_rectangularity  max_length_rectangularity  \\\n",
       "0           42.0                    20.0                      159.0   \n",
       "1           45.0                    19.0                      143.0   \n",
       "2           32.0                    23.0                      158.0   \n",
       "3           46.0                    19.0                      143.0   \n",
       "4           45.0                    19.0                      144.0   \n",
       "\n",
       "   scaled_variance_major_axis  scaled_variance_minor_axis  \\\n",
       "0                       176.0                       379.0   \n",
       "1                       170.0                       330.0   \n",
       "2                       223.0                       635.0   \n",
       "3                       160.0                       309.0   \n",
       "4                       241.0                       325.0   \n",
       "\n",
       "   scaled_radius_gyration  skewness_major_axis  skewness_minor_axis  \\\n",
       "0                   184.0                 70.0                  6.0   \n",
       "1                   158.0                 72.0                  9.0   \n",
       "2                   220.0                 73.0                 14.0   \n",
       "3                   127.0                 63.0                  6.0   \n",
       "4                   188.0                127.0                  9.0   \n",
       "\n",
       "   kurtosis_minor_axis  kurtosis_major_axis  hollows_ratio vehicle_class  \n",
       "0                 16.0                187.0          197.0           van  \n",
       "1                 14.0                189.0          199.0           van  \n",
       "2                  9.0                188.0          196.0          saab  \n",
       "3                 10.0                199.0          207.0           van  \n",
       "4                 11.0                180.0          183.0           bus  "
      ]
     },
     "execution_count": 7,
     "metadata": {},
     "output_type": "execute_result"
    }
   ],
   "source": [
    "df = pd.read_csv('vehiculos.csv')\n",
    "df.head()"
   ]
  },
  {
   "cell_type": "code",
   "execution_count": 9,
   "metadata": {},
   "outputs": [
    {
     "data": {
      "text/plain": [
       "<matplotlib.axes._subplots.AxesSubplot at 0x2158fbf5a90>"
      ]
     },
     "execution_count": 9,
     "metadata": {},
     "output_type": "execute_result"
    },
    {
     "data": {
      "image/png": "[encoded data removed]",
      "text/plain": [
       "<Figure size 432x288 with 2 Axes>"
      ]
     },
     "metadata": {
      "needs_background": "light"
     },
     "output_type": "display_data"
    }
   ],
   "source": [
    "sns.heatmap(df.isnull())"
   ]
  },
  {
   "cell_type": "code",
   "execution_count": 10,
   "metadata": {},
   "outputs": [
    {
     "name": "stdout",
     "output_type": "stream",
     "text": [
      "<class 'pandas.core.frame.DataFrame'>\n",
      "RangeIndex: 846 entries, 0 to 845\n",
      "Data columns (total 19 columns):\n",
      "compactness                   846 non-null float64\n",
      "circularity                   846 non-null float64\n",
      "distance_circularity          846 non-null float64\n",
      "radius_ratio                  846 non-null float64\n",
      "pr_axis_aspect_ratio          846 non-null float64\n",
      "max_length_aspect_ratio       846 non-null float64\n",
      "scatter_ratio                 846 non-null float64\n",
      "elongatedness                 846 non-null float64\n",
      "pr_axis_rectangularity        846 non-null float64\n",
      "max_length_rectangularity     846 non-null float64\n",
      "scaled_variance_major_axis    846 non-null float64\n",
      "scaled_variance_minor_axis    846 non-null float64\n",
      "scaled_radius_gyration        846 non-null float64\n",
      "skewness_major_axis           846 non-null float64\n",
      "skewness_minor_axis           846 non-null float64\n",
      "kurtosis_minor_axis           846 non-null float64\n",
      "kurtosis_major_axis           846 non-null float64\n",
      "hollows_ratio                 846 non-null float64\n",
      "vehicle_class                 846 non-null object\n",
      "dtypes: float64(18), object(1)\n",
      "memory usage: 125.7+ KB\n"
     ]
    }
   ],
   "source": [
    "df.info()"
   ]
  },
  {
   "cell_type": "code",
   "execution_count": 11,
   "metadata": {},
   "outputs": [
    {
     "data": {
      "text/plain": [
       "array(['van', 'saab', 'bus', 'opel'], dtype=object)"
      ]
     },
     "execution_count": 11,
     "metadata": {},
     "output_type": "execute_result"
    }
   ],
   "source": [
    "df['vehicle_class'].unique()"
   ]
  },
  {
   "cell_type": "code",
   "execution_count": 12,
   "metadata": {},
   "outputs": [],
   "source": [
    "Y = df['vehicle_class']\n",
    "X = df.drop('vehicle_class', axis=1)"
   ]
  },
  {
   "cell_type": "code",
   "execution_count": 15,
   "metadata": {},
   "outputs": [
    {
     "data": {
      "text/plain": [
       "Index(['compactness', 'circularity', 'distance_circularity', 'radius_ratio',\n",
       "       'pr_axis_aspect_ratio', 'max_length_aspect_ratio', 'scatter_ratio',\n",
       "       'elongatedness', 'pr_axis_rectangularity', 'max_length_rectangularity',\n",
       "       'scaled_variance_major_axis', 'scaled_variance_minor_axis',\n",
       "       'scaled_radius_gyration', 'skewness_major_axis', 'skewness_minor_axis',\n",
       "       'kurtosis_minor_axis', 'kurtosis_major_axis', 'hollows_ratio'],\n",
       "      dtype='object')"
      ]
     },
     "execution_count": 15,
     "metadata": {},
     "output_type": "execute_result"
    }
   ],
   "source": [
    "X.columns"
   ]
  },
  {
   "cell_type": "code",
   "execution_count": 17,
   "metadata": {},
   "outputs": [],
   "source": [
    "from sklearn.model_selection import train_test_split\n"
   ]
  },
  {
   "cell_type": "code",
   "execution_count": 18,
   "metadata": {},
   "outputs": [],
   "source": [
    "X_train, X_test, Y_train, Y_test = train_test_split(X, Y, test_size=0.3, random_state=45)"
   ]
  },
  {
   "cell_type": "markdown",
   "metadata": {},
   "source": [
    "**Treinando o Modelo**"
   ]
  },
  {
   "cell_type": "code",
   "execution_count": 19,
   "metadata": {},
   "outputs": [],
   "source": [
    "from sklearn.neighbors import KNeighborsClassifier"
   ]
  },
  {
   "cell_type": "code",
   "execution_count": 21,
   "metadata": {},
   "outputs": [],
   "source": [
    "knn = KNeighborsClassifier(n_neighbors=1)"
   ]
  },
  {
   "cell_type": "code",
   "execution_count": 23,
   "metadata": {},
   "outputs": [
    {
     "data": {
      "text/plain": [
       "KNeighborsClassifier(algorithm='auto', leaf_size=30, metric='minkowski',\n",
       "           metric_params=None, n_jobs=None, n_neighbors=1, p=2,\n",
       "           weights='uniform')"
      ]
     },
     "execution_count": 23,
     "metadata": {},
     "output_type": "execute_result"
    }
   ],
   "source": [
    "knn.fit(X_train, Y_train)"
   ]
  },
  {
   "cell_type": "code",
   "execution_count": 24,
   "metadata": {},
   "outputs": [],
   "source": [
    "predicao = knn.predict(X_test)"
   ]
  },
  {
   "cell_type": "code",
   "execution_count": 25,
   "metadata": {},
   "outputs": [
    {
     "data": {
      "text/plain": [
       "array(['saab', 'opel', 'saab', 'opel', 'saab', 'van', 'saab', 'opel',\n",
       "       'saab', 'van', 'opel', 'bus', 'van', 'opel', 'opel', 'van', 'opel',\n",
       "       'saab', 'bus', 'saab', 'bus', 'bus', 'bus', 'bus', 'bus', 'bus',\n",
       "       'opel', 'saab', 'van', 'bus', 'opel', 'opel', 'bus', 'saab',\n",
       "       'opel', 'bus', 'van', 'bus', 'bus', 'van', 'van', 'opel', 'opel',\n",
       "       'bus', 'saab', 'van', 'bus', 'bus', 'opel', 'bus', 'bus', 'saab',\n",
       "       'opel', 'van', 'bus', 'saab', 'saab', 'bus', 'saab', 'opel', 'van',\n",
       "       'van', 'bus', 'bus', 'saab', 'van', 'bus', 'bus', 'van', 'saab',\n",
       "       'van', 'bus', 'opel', 'van', 'opel', 'van', 'saab', 'saab', 'bus',\n",
       "       'bus', 'van', 'saab', 'saab', 'van', 'bus', 'bus', 'saab', 'saab',\n",
       "       'saab', 'van', 'van', 'van', 'van', 'saab', 'saab', 'saab', 'saab',\n",
       "       'opel', 'opel', 'saab', 'bus', 'bus', 'bus', 'saab', 'van', 'bus',\n",
       "       'saab', 'saab', 'saab', 'bus', 'van', 'bus', 'opel', 'bus', 'saab',\n",
       "       'saab', 'opel', 'van', 'opel', 'opel', 'bus', 'opel', 'bus', 'van',\n",
       "       'saab', 'opel', 'saab', 'opel', 'opel', 'bus', 'bus', 'bus', 'van',\n",
       "       'opel', 'van', 'bus', 'bus', 'opel', 'opel', 'saab', 'van', 'opel',\n",
       "       'van', 'van', 'saab', 'bus', 'saab', 'saab', 'bus', 'van', 'van',\n",
       "       'bus', 'saab', 'saab', 'van', 'van', 'van', 'bus', 'opel', 'bus',\n",
       "       'saab', 'saab', 'opel', 'saab', 'van', 'saab', 'van', 'van', 'bus',\n",
       "       'van', 'saab', 'opel', 'van', 'van', 'van', 'saab', 'van', 'van',\n",
       "       'bus', 'bus', 'opel', 'van', 'van', 'opel', 'saab', 'opel', 'opel',\n",
       "       'opel', 'van', 'van', 'opel', 'bus', 'opel', 'saab', 'bus', 'bus',\n",
       "       'opel', 'bus', 'bus', 'bus', 'van', 'van', 'bus', 'bus', 'bus',\n",
       "       'opel', 'opel', 'van', 'van', 'bus', 'bus', 'bus', 'van', 'van',\n",
       "       'van', 'opel', 'van', 'bus', 'saab', 'van', 'van', 'bus', 'bus',\n",
       "       'saab', 'van', 'bus', 'van', 'bus', 'bus', 'saab', 'saab', 'bus',\n",
       "       'saab', 'bus', 'bus', 'saab', 'saab', 'bus', 'bus', 'van', 'bus',\n",
       "       'bus', 'saab', 'saab', 'saab', 'opel', 'bus', 'van', 'opel',\n",
       "       'opel', 'van', 'opel', 'bus', 'bus'], dtype=object)"
      ]
     },
     "execution_count": 25,
     "metadata": {},
     "output_type": "execute_result"
    }
   ],
   "source": [
    "predicao"
   ]
  },
  {
   "cell_type": "code",
   "execution_count": 30,
   "metadata": {},
   "outputs": [],
   "source": [
    "from sklearn.metrics import classification_report, confusion_matrix"
   ]
  },
  {
   "cell_type": "code",
   "execution_count": 33,
   "metadata": {},
   "outputs": [
    {
     "name": "stdout",
     "output_type": "stream",
     "text": [
      "[[65  0  7  5]\n",
      " [ 7 24 28  6]\n",
      " [ 5 26 23  3]\n",
      " [ 2  0  2 51]]\n"
     ]
    }
   ],
   "source": [
    "print(confusion_matrix(Y_test, predicao))"
   ]
  },
  {
   "cell_type": "code",
   "execution_count": 31,
   "metadata": {},
   "outputs": [
    {
     "name": "stdout",
     "output_type": "stream",
     "text": [
      "              precision    recall  f1-score   support\n",
      "\n",
      "         bus       0.82      0.84      0.83        77\n",
      "        opel       0.48      0.37      0.42        65\n",
      "        saab       0.38      0.40      0.39        57\n",
      "         van       0.78      0.93      0.85        55\n",
      "\n",
      "   micro avg       0.64      0.64      0.64       254\n",
      "   macro avg       0.62      0.64      0.62       254\n",
      "weighted avg       0.63      0.64      0.63       254\n",
      "\n"
     ]
    }
   ],
   "source": [
    "print(classification_report(Y_test,predicao))"
   ]
  },
  {
   "cell_type": "code",
   "execution_count": 38,
   "metadata": {},
   "outputs": [],
   "source": [
    "taxa_erro = []\n",
    "\n",
    "for i in range(1,30):\n",
    "    knn = KNeighborsClassifier(n_neighbors=i)\n",
    "    knn.fit(X_train, Y_train)\n",
    "    predicao_i = knn.predict(X_test)\n",
    "    taxa_erro.append(np.mean(predicao_i != Y_test))"
   ]
  },
  {
   "cell_type": "code",
   "execution_count": 39,
   "metadata": {},
   "outputs": [
    {
     "data": {
      "text/plain": [
       "[0.35826771653543305,\n",
       " 0.3464566929133858,\n",
       " 0.3188976377952756,\n",
       " 0.3228346456692913,\n",
       " 0.33858267716535434,\n",
       " 0.3346456692913386,\n",
       " 0.3228346456692913,\n",
       " 0.33858267716535434,\n",
       " 0.36220472440944884,\n",
       " 0.3661417322834646,\n",
       " 0.35039370078740156,\n",
       " 0.3661417322834646,\n",
       " 0.36220472440944884,\n",
       " 0.38188976377952755,\n",
       " 0.35039370078740156,\n",
       " 0.3661417322834646,\n",
       " 0.3661417322834646,\n",
       " 0.3700787401574803,\n",
       " 0.3661417322834646,\n",
       " 0.3779527559055118,\n",
       " 0.3661417322834646,\n",
       " 0.37401574803149606,\n",
       " 0.37401574803149606,\n",
       " 0.37401574803149606,\n",
       " 0.3779527559055118,\n",
       " 0.38976377952755903,\n",
       " 0.38188976377952755,\n",
       " 0.3700787401574803,\n",
       " 0.37401574803149606]"
      ]
     },
     "execution_count": 39,
     "metadata": {},
     "output_type": "execute_result"
    }
   ],
   "source": [
    "taxa_erro"
   ]
  },
  {
   "cell_type": "code",
   "execution_count": 44,
   "metadata": {},
   "outputs": [
    {
     "data": {
      "text/plain": [
       "[<matplotlib.lines.Line2D at 0x21593288438>]"
      ]
     },
     "execution_count": 44,
     "metadata": {},
     "output_type": "execute_result"
    },
    {
     "data": {
      "image/png": "[encoded data removed]",
      "text/plain": [
       "<Figure size 432x288 with 1 Axes>"
      ]
     },
     "metadata": {
      "needs_background": "light"
     },
     "output_type": "display_data"
    }
   ],
   "source": [
    "valor = range(1,30)\n",
    "plt.plot(valor, taxa_erro, color='green', marker='o', markerfacecolor='red', markersize=8)"
   ]
  },
  {
   "cell_type": "code",
   "execution_count": 46,
   "metadata": {},
   "outputs": [
    {
     "name": "stdout",
     "output_type": "stream",
     "text": [
      "              precision    recall  f1-score   support\n",
      "\n",
      "         bus       0.77      0.88      0.82        77\n",
      "        opel       0.58      0.45      0.50        65\n",
      "        saab       0.44      0.39      0.41        57\n",
      "         van       0.82      0.98      0.89        55\n",
      "\n",
      "   micro avg       0.68      0.68      0.68       254\n",
      "   macro avg       0.65      0.67      0.66       254\n",
      "weighted avg       0.66      0.68      0.66       254\n",
      "\n"
     ]
    }
   ],
   "source": [
    "knn = KNeighborsClassifier(n_neighbors=3)\n",
    "knn.fit(X_train, Y_train)\n",
    "predicao = knn.predict(X_test)\n",
    "print(classification_report(Y_test, predicao))"
   ]
  }
 ],
 "metadata": {
  "kernelspec": {
   "display_name": "Python 3",
   "language": "python",
   "name": "python3"
  },
  "language_info": {
   "codemirror_mode": {
    "name": "ipython",
    "version": 3
   },
   "file_extension": ".py",
   "mimetype": "text/x-python",
   "name": "python",
   "nbconvert_exporter": "python",
   "pygments_lexer": "ipython3",
   "version": "3.7.3"
  }
 },
 "nbformat": 4,
 "nbformat_minor": 2
}
